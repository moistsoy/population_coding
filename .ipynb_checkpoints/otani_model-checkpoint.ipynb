{
 "cells": [
  {
   "cell_type": "markdown",
   "metadata": {},
   "source": [
    "# Parameters"
   ]
  },
  {
   "cell_type": "markdown",
   "metadata": {},
   "source": [
    "\n",
    "\n",
    "\n",
    "Parameters are shown in papers linked below.\n",
    "\n",
    "1. [Durstewitz et. al., 2000 ](https://papers.cnl.salk.edu/PDFs/Dopamine-Mediated%20Stabilization%20of%20Delay-Period%20Activity%20in%20a%20Network%20Model%20of%20Prefrontal%20Cortex%202000-3711.pdf)\n",
    "\n",
    "2. [Durstewitz et. al., 2002](https://www.bio.psy.ruhr-uni-bochum.de/bpsy/mam/content/documents/durstewitz_2002_the_computational_role_of_dopamine_d1.pdf)"
   ]
  },
  {
   "cell_type": "code",
   "execution_count": 1,
   "metadata": {},
   "outputs": [],
   "source": [
    "### Morphology ###\n",
    "\n",
    "soma_l = 28.62\n",
    "soma_d = 21.84\n",
    "\n",
    "dend_l = 650\n",
    "dend_d = 6.5\n",
    "\n",
    "### Passive properties ###\n",
    "\n",
    "soma_Rm = 30000     # membrane resistance\n",
    "soma_Eleak = -70    # leakage reversal potential\n",
    "soma_Cm = 1.2       # membrane capacitance\n",
    "soma_Ri = 150       # axial resistance\n",
    "\n",
    "dend_Rm = soma_Rm / 1.92\n",
    "dend_Eleak = -70\n",
    "dend_Cm = soma_Cm * 1.92 \n",
    "dend_Ri = 150\n",
    "\n",
    "### Ionic conductances ###\n",
    "\n",
    "soma_INa = 0.117      # Na+ current\n",
    "soma_INaP = 0.0018     # persistent Na+ current\n",
    "soma_IDR = 0.005       # delayed rectifier current\n",
    "soma_IKS = 8e-5 + 0.001     # slowly inactivating K+ current\n",
    "soma_IC = 0.0021       # voltage-dependent C-type K+ current\n",
    "soma_IHVA = 0.0004     # high-voltage-activated Ca2+ current\n",
    "\n",
    "dend_INa = 0.02\n",
    "dend_INaP = 0.0008\n",
    "dend_IDR = 0.0014\n",
    "dend_IKS = soma_IKS\n",
    "dend_IC = soma_IC\n",
    "dend_IHVA = 0.0008\n",
    "\n",
    "CAF = 600e-9   # calcium accumulation factor\n",
    "\n",
    "### Plasticity parameters ###\n",
    "\n",
    "ampa_tau1 = 0.55  # ms\n",
    "ampa_tau2 = 2.2   # ms\n",
    "\n",
    "nmda_taus = 0.1\n",
    "nmda_tau1 = 10.6   # ms\n",
    "nmda_tau2 = 285.0  # ms\n",
    "\n",
    "### Desired peak conductances\n",
    "\n",
    "g_AMPA_max = 4e-9   # S/cm2\n",
    "g_NMDA_max = g_AMPA_max / 50    # S/cm2\n",
    "\n",
    "USE = 0.6       # STD utilization parameter \n",
    "t_rec = 800     # recovery time (ms)\n"
   ]
  },
  {
   "cell_type": "markdown",
   "metadata": {},
   "source": [
    "# Import Libraries"
   ]
  },
  {
   "cell_type": "code",
   "execution_count": 2,
   "metadata": {},
   "outputs": [],
   "source": [
    "from neuron import h\n",
    "import numpy as np\n",
    "import matplotlib.pyplot as plt\n",
    "\n",
    "h.load_file('stdrun.hoc')\n",
    "\n",
    "### load ionic conductances ###\n",
    "\n",
    "h.nrn_load_dll(\"./mods/arm64/.libs/libnrnmech.so\")\n",
    "mechanisms = ['hh', 'naf', 'nap', 'hva', 'kdr', 'iks', 'ic', 'cadyn', 'kdyn']"
   ]
  },
  {
   "cell_type": "markdown",
   "metadata": {},
   "source": [
    "# Generate Two-Compartment Model Neuron"
   ]
  },
  {
   "cell_type": "code",
   "execution_count": 3,
   "metadata": {},
   "outputs": [],
   "source": [
    "### Create a soma ###\n",
    "\n",
    "soma = h.Section(name='soma')\n",
    "\n",
    "### Add morphology ###\n",
    "\n",
    "soma.L = soma_l\n",
    "soma.diam = soma_d\n",
    "\n",
    "### Add passive properties ###\n",
    "\n",
    "soma.insert('pas')\n",
    "soma.g_pas = 1 / soma_Rm\n",
    "soma.e_pas = soma_Eleak\n",
    "soma.Ra = soma_Ri\n",
    "soma.cm = soma_Cm\n",
    "\n",
    "### Add ionic conductances ###\n",
    "\n",
    "for i in mechanisms:\n",
    "    soma.insert(i)\n",
    "\n",
    "soma(0.5).nap.gnapbar = soma_INaP\n",
    "soma(0.5).naf.gnafbar = soma_INa\n",
    "soma(0.5).hva.ghvabar = soma_IHVA\n",
    "soma(0.5).kdr.gkdrbar = soma_IDR\n",
    "soma(0.5).iks.gKsbar = soma_IKS\n",
    "soma(0.5).ic.gkcbar = soma_IC\n",
    "soma(0.5).cadyn.CAF = CAF"
   ]
  },
  {
   "cell_type": "code",
   "execution_count": 4,
   "metadata": {},
   "outputs": [],
   "source": [
    "### Create a dendrite ###\n",
    "\n",
    "dend = h.Section(name='dend')\n",
    "\n",
    "### Add morphology ###\n",
    "\n",
    "dend.L = dend_l\n",
    "dend.diam = dend_d\n",
    "\n",
    "### Add passive properties ###\n",
    "\n",
    "dend.insert('pas')  # Passive dendrite\n",
    "dend.g_pas = 1 / dend_Rm\n",
    "dend.e_pas = dend_Eleak\n",
    "dend.Ra = dend_Ri\n",
    "dend.cm = dend_Cm\n",
    "\n",
    "# Add ionic conductances\n",
    "\n",
    "for i in mechanisms:\n",
    "    dend.insert(i)\n",
    "\n",
    "dend(0.5).nap.gnapbar = dend_INaP\n",
    "dend(0.5).naf.gnafbar = dend_INa\n",
    "dend(0.5).hva.ghvabar = dend_IHVA\n",
    "dend(0.5).kdr.gkdrbar = dend_IDR\n",
    "dend(0.5).iks.gKsbar = dend_IKS\n",
    "dend(0.5).ic.gkcbar = dend_IC\n",
    "dend(0.5).cadyn.CAF = CAF"
   ]
  },
  {
   "cell_type": "code",
   "execution_count": null,
   "metadata": {},
   "outputs": [
    {
     "ename": "",
     "evalue": "",
     "output_type": "error",
     "traceback": [
      "\u001b[1;31mThe Kernel crashed while executing code in the current cell or a previous cell. \n",
      "\u001b[1;31mPlease review the code in the cell(s) to identify a possible cause of the failure. \n",
      "\u001b[1;31mClick <a href='https://aka.ms/vscodeJupyterKernelCrash'>here</a> for more info. \n",
      "\u001b[1;31mView Jupyter <a href='command:jupyter.viewOutput'>log</a> for further details."
     ]
    }
   ],
   "source": [
    "### Connect soma and dendrite ###\n",
    "\n",
    "dend.connect(soma)\n",
    "h.topology()"
   ]
  },
  {
   "cell_type": "markdown",
   "metadata": {},
   "source": [
    "# Create Synapses"
   ]
  },
  {
   "cell_type": "code",
   "execution_count": null,
   "metadata": {},
   "outputs": [],
   "source": [
    "class Synapse:\n",
    "    def __init__(self, sec, loc=0.5):\n",
    "        self.syn_AMPA = h.Exp2Syn(loc, sec=sec)\n",
    "        self.syn_NMDA = h.Exp2Syn(loc, sec=sec)\n",
    "        \n",
    "        # AMPA parameters\n",
    "        self.syn_AMPA.tau1 = 0.2  # ms (rise time)\n",
    "        self.syn_AMPA.tau2 = 1  # ms (decay time)\n",
    "        self.syn_AMPA.e = 0       # mV (reversal potential)\n",
    "        self.g_AMPA_max = 4e-9    # S (4 nS)\n",
    "        \n",
    "        # NMDA parameters\n",
    "        self.syn_NMDA.tau1 = 2.3  # ms (rise time)\n",
    "        self.syn_NMDA.tau2 = 95.0 # ms (decay time)\n",
    "        self.syn_NMDA.e = 0       # mV (reversal potential)\n",
    "        self.g_NMDA_max = 4e-9 / 50  # S (4/50 nS)\n",
    "        \n",
    "        # Short-term depression parameters\n",
    "        self.U_SE = 0.6      # Utilization factor\n",
    "        self.t_rec = 800      # Recovery time constant (ms)\n",
    "        self.R = 1.0          # Fraction of available resources\n",
    "        \n",
    "        self.netcon_AMPA = h.NetCon(None, self.syn_AMPA)\n",
    "        self.netcon_NMDA = h.NetCon(None, self.syn_NMDA)\n",
    "        self.netcon_AMPA.weight[0] = self.g_AMPA_max\n",
    "        self.netcon_NMDA.weight[0] = self.g_NMDA_max\n",
    "        \n",
    "    def activate(self, time):\n",
    "        # Implement short-term depression\n",
    "        self.R = self.R * (1 - self.U_SE) + (1 - self.R) * (1 - np.exp(-time/self.t_rec))\n",
    "        weight_AMPA = self.g_AMPA_max * self.U_SE * self.R\n",
    "        weight_NMDA = self.g_NMDA_max * self.U_SE * self.R\n",
    "        \n",
    "        self.netcon_AMPA.weight[0] = weight_AMPA\n",
    "        self.netcon_NMDA.weight[0] = weight_NMDA\n",
    "        \n",
    "        self.netcon_AMPA.event(time)\n",
    "        self.netcon_NMDA.event(time)\n",
    "\n",
    "# Create a section (single compartment)\n",
    "soma = h.Section(name='soma')\n",
    "soma.L = soma.diam = 20  # Micrometers\n",
    "soma.insert('hh')  # Hodgkin-Huxley channels\n",
    "\n",
    "# Create a synapse\n",
    "syn = Synapse(soma)\n",
    "\n",
    "# Simulation setup\n",
    "tstop = 1000  # ms\n",
    "dt = 0.1  # ms\n",
    "timevec = np.arange(0, tstop, dt)\n",
    "v_vec = h.Vector().record(soma(0.5)._ref_v)  # Record voltage\n",
    "\n",
    "# Stimulate the synapse at different times\n",
    "stim_times = [100, 300, 500, 700]  # ms\n",
    "for stim in stim_times:\n",
    "    syn.activate(stim)\n",
    "\n",
    "h.finitialize(-65)\n",
    "h.continuerun(tstop)\n",
    "\n",
    "# Plot results\n",
    "plt.figure()\n",
    "plt.plot(timevec, v_vec, label='Membrane Potential')\n",
    "plt.xlabel('Time (ms)')\n",
    "plt.ylabel('Voltage (mV)')\n",
    "plt.legend()\n",
    "plt.show()\n"
   ]
  },
  {
   "cell_type": "code",
   "execution_count": null,
   "metadata": {},
   "outputs": [],
   "source": []
  }
 ],
 "metadata": {
  "kernelspec": {
   "display_name": "Python 3",
   "language": "python",
   "name": "python3"
  },
  "language_info": {
   "codemirror_mode": {
    "name": "ipython",
    "version": 3
   },
   "file_extension": ".py",
   "mimetype": "text/x-python",
   "name": "python",
   "nbconvert_exporter": "python",
   "pygments_lexer": "ipython3",
   "version": "3.10.11"
  }
 },
 "nbformat": 4,
 "nbformat_minor": 2
}
